{
 "cells": [
  {
   "cell_type": "code",
   "execution_count": 5,
   "id": "bbbae7f0-9cde-43b3-98c6-0c1d846c0de4",
   "metadata": {},
   "outputs": [
    {
     "name": "stdout",
     "output_type": "stream",
     "text": [
      "Too low...\n"
     ]
    }
   ],
   "source": [
    "secret = 7\n",
    "guess = 2\n",
    "if guess == secret:\n",
    "    print(\"Correct\")\n",
    "elif guess > secret:\n",
    "    print (\"Too high\")\n",
    "else:\n",
    "    print (\"Too low...\")"
   ]
  },
  {
   "cell_type": "code",
   "execution_count": 13,
   "id": "08687c87-49a5-4153-ae44-3f1ee7ab68e9",
   "metadata": {},
   "outputs": [
    {
     "name": "stdout",
     "output_type": "stream",
     "text": [
      "It's a cherry!\n"
     ]
    }
   ],
   "source": [
    "small = True\n",
    "green = False\n",
    "if green == True:\n",
    "    if small == True:\n",
    "        print(\"It's a pea!\")\n",
    "    else:\n",
    "        print(\"Its a watermelon!\")\n",
    "else:\n",
    "    if small == True:\n",
    "        print(\"It's a cherry!\")\n",
    "    else:\n",
    "        print(\"It's a pumpkin!\")\n"
   ]
  },
  {
   "cell_type": "code",
   "execution_count": 17,
   "id": "f08b1c51-fce9-4375-afa9-dbd650f5fa1c",
   "metadata": {},
   "outputs": [
    {
     "name": "stdout",
     "output_type": "stream",
     "text": [
      "3\n",
      "2\n",
      "1\n",
      "0\n"
     ]
    }
   ],
   "source": [
    "list1 = [3, 2, 1, 0]\n",
    "for x in list1:\n",
    "    print(x)"
   ]
  },
  {
   "cell_type": "code",
   "execution_count": 21,
   "id": "d3b368bf-3952-4cc7-93d1-c3d68a2a7777",
   "metadata": {},
   "outputs": [
    {
     "name": "stdout",
     "output_type": "stream",
     "text": [
      "Too Low!\n",
      "Too Low!\n",
      "Too Low!\n",
      "Too Low!\n",
      "Too Low!\n",
      "Too Low!\n",
      "Found it!\n"
     ]
    }
   ],
   "source": [
    "guess_me = 7\n",
    "number = 1\n",
    "while number != guess_me:\n",
    "    if number < guess_me:\n",
    "        print(\"Too Low!\")\n",
    "    if number > guess_me:\n",
    "        print(\"Oops..\")\n",
    "        break\n",
    "    number += 1\n",
    "    if number == guess_me:\n",
    "        print(\"Found it!\")\n",
    "        break        "
   ]
  },
  {
   "cell_type": "code",
   "execution_count": 25,
   "id": "b5a60f1d-7d43-4202-9517-8728b760f9ef",
   "metadata": {},
   "outputs": [
    {
     "name": "stdout",
     "output_type": "stream",
     "text": [
      "Too Low\n",
      "Too Low\n",
      "Too Low\n",
      "Too Low\n",
      "Found it!\n"
     ]
    }
   ],
   "source": [
    "guess_me = 5\n",
    "for number in range(1, 10):\n",
    "    if number < guess_me:\n",
    "        print(\"Too Low\")\n",
    "    if number == guess_me:\n",
    "        print(\"Found it!\")\n",
    "        break\n",
    "    if number > guess_me:\n",
    "        (\"Oops..\")\n",
    "        break"
   ]
  },
  {
   "cell_type": "code",
   "execution_count": null,
   "id": "7cada81e-851a-41d4-a6dd-0d53611aa9ea",
   "metadata": {},
   "outputs": [],
   "source": []
  }
 ],
 "metadata": {
  "kernelspec": {
   "display_name": "Python 3 (ipykernel)",
   "language": "python",
   "name": "python3"
  },
  "language_info": {
   "codemirror_mode": {
    "name": "ipython",
    "version": 3
   },
   "file_extension": ".py",
   "mimetype": "text/x-python",
   "name": "python",
   "nbconvert_exporter": "python",
   "pygments_lexer": "ipython3",
   "version": "3.12.4"
  }
 },
 "nbformat": 4,
 "nbformat_minor": 5
}
